{
 "cells": [
  {
   "cell_type": "markdown",
   "id": "c025d47d",
   "metadata": {},
   "source": [
    "# 약수"
   ]
  },
  {
   "cell_type": "code",
   "execution_count": 8,
   "id": "da546db4",
   "metadata": {},
   "outputs": [
    {
     "name": "stdout",
     "output_type": "stream",
     "text": [
      "5\n"
     ]
    },
    {
     "data": {
      "text/plain": [
       "6"
      ]
     },
     "execution_count": 8,
     "metadata": {},
     "output_type": "execute_result"
    }
   ],
   "source": [
    "a = int(input())\n",
    "tlqkf = 0\n",
    "for i in range (1,a+1):\n",
    "    if a%i == 0:\n",
    "        tlqkf = tlqkf + i\n",
    "\n",
    "tlqkf"
   ]
  },
  {
   "cell_type": "markdown",
   "id": "ad999c50",
   "metadata": {},
   "source": [
    "# 설탕배달"
   ]
  },
  {
   "cell_type": "code",
   "execution_count": 10,
   "id": "98d62493",
   "metadata": {
    "scrolled": true
   },
   "outputs": [
    {
     "name": "stdout",
     "output_type": "stream",
     "text": [
      "15\n",
      "3\n"
     ]
    }
   ],
   "source": [
    "a = int(input())\n",
    "cpy_a = a\n",
    "box = 0\n",
    "while cpy_a >= 0 :\n",
    "    if cpy_a%5==0:\n",
    "        box += cpy_a //5\n",
    "        print(box)\n",
    "        break\n",
    "    cpy_a -=3\n",
    "    box += 1\n",
    "else:\n",
    "    print(-1)"
   ]
  },
  {
   "cell_type": "markdown",
   "id": "d7a60e51",
   "metadata": {},
   "source": [
    "# 피보나치"
   ]
  },
  {
   "cell_type": "code",
   "execution_count": 30,
   "id": "d7feaa23",
   "metadata": {},
   "outputs": [
    {
     "name": "stdout",
     "output_type": "stream",
     "text": [
      "10\n"
     ]
    },
    {
     "data": {
      "text/plain": [
       "[0, 1, 1, 2, 3, 5, 8, 13, 21, 34, 55]"
      ]
     },
     "execution_count": 30,
     "metadata": {},
     "output_type": "execute_result"
    }
   ],
   "source": [
    "k = int(input())\n",
    "f = [0,1]\n",
    "for i in range(2,k+1):\n",
    "    f.append(f[i-1] + f[i-2])\n",
    "\n",
    "print(f[-1])"
   ]
  },
  {
   "cell_type": "code",
   "execution_count": null,
   "id": "daa4c2ad",
   "metadata": {},
   "outputs": [],
   "source": []
  },
  {
   "cell_type": "code",
   "execution_count": null,
   "id": "c63b9ff9",
   "metadata": {},
   "outputs": [],
   "source": []
  }
 ],
 "metadata": {
  "kernelspec": {
   "display_name": "Python 3 (ipykernel)",
   "language": "python",
   "name": "python3"
  },
  "language_info": {
   "codemirror_mode": {
    "name": "ipython",
    "version": 3
   },
   "file_extension": ".py",
   "mimetype": "text/x-python",
   "name": "python",
   "nbconvert_exporter": "python",
   "pygments_lexer": "ipython3",
   "version": "3.9.7"
  }
 },
 "nbformat": 4,
 "nbformat_minor": 5
}
