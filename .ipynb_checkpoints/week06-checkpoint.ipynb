{
 "cells": [
  {
   "cell_type": "markdown",
   "id": "86a6491d",
   "metadata": {},
   "source": [
    "# 괄호 (스택)"
   ]
  },
  {
   "cell_type": "code",
   "execution_count": 74,
   "id": "4e9bf7f8",
   "metadata": {},
   "outputs": [],
   "source": [
    "def check(vps):\n",
    "    while vps.find('()') > -1:\n",
    "        vps = vps.replace('()','')\n",
    "    if vps == '':\n",
    "        return 'YES'\n",
    "    else:\n",
    "        return 'NO'\n",
    "        "
   ]
  },
  {
   "cell_type": "code",
   "execution_count": 78,
   "id": "efb9e482",
   "metadata": {},
   "outputs": [
    {
     "name": "stdout",
     "output_type": "stream",
     "text": [
      "6\n",
      "(())())\n",
      "NO\n",
      "(()()()())\n",
      "YES\n",
      "asdf\n",
      "NO\n",
      "asg\n",
      "NO\n",
      "zxcv\n",
      "NO\n",
      "\n",
      "YES\n"
     ]
    }
   ],
   "source": [
    "repeat = int(input())\n",
    "for i in range(repeat):\n",
    "    _input = str(input())\n",
    "    print(check(_input))\n"
   ]
  },
  {
   "cell_type": "markdown",
   "id": "be23fb63",
   "metadata": {},
   "source": [
    "# 요세푸스"
   ]
  },
  {
   "cell_type": "code",
   "execution_count": 246,
   "id": "16f8f409",
   "metadata": {},
   "outputs": [],
   "source": [
    "class Node:\n",
    "    def __init__(self, data, prev = None, next=None):\n",
    "        self.data = data  # 데이터 저장\n",
    "        self.prev = prev\n",
    "        self.next = next  # 링크 저장\n",
    "        "
   ]
  },
  {
   "cell_type": "code",
   "execution_count": 285,
   "id": "6cd1ae97",
   "metadata": {},
   "outputs": [
    {
     "name": "stdout",
     "output_type": "stream",
     "text": [
      "7 3\n"
     ]
    }
   ],
   "source": [
    "n,k=map(int,input().split())"
   ]
  },
  {
   "cell_type": "code",
   "execution_count": 287,
   "id": "2ca76eb0",
   "metadata": {},
   "outputs": [],
   "source": [
    "_list = []\n",
    "for i in range(1,n+1):\n",
    "    _list.append(Node(i))"
   ]
  },
  {
   "cell_type": "code",
   "execution_count": 288,
   "id": "09c42874",
   "metadata": {},
   "outputs": [],
   "source": [
    "for i in range(n-1):\n",
    "    _list[i].next = _list[i+1]\n",
    "    _list[i+1].prev = _list[i]\n",
    "_list[-1].next = _list[0]\n",
    "_list[0].prev = _list[-1]"
   ]
  },
  {
   "cell_type": "code",
   "execution_count": 289,
   "id": "47da9318",
   "metadata": {},
   "outputs": [
    {
     "data": {
      "text/plain": [
       "6"
      ]
     },
     "execution_count": 289,
     "metadata": {},
     "output_type": "execute_result"
    }
   ],
   "source": [
    "_list[-1].prev.data"
   ]
  },
  {
   "cell_type": "code",
   "execution_count": 290,
   "id": "f45dcb0d",
   "metadata": {},
   "outputs": [
    {
     "name": "stdout",
     "output_type": "stream",
     "text": [
      "2\n",
      "3\n",
      "4\n",
      "5\n",
      "6\n",
      "7\n",
      "1\n"
     ]
    }
   ],
   "source": [
    "for i in range(n):\n",
    "    print(_list[i].next.data)"
   ]
  },
  {
   "cell_type": "code",
   "execution_count": 291,
   "id": "f4c03ba7",
   "metadata": {},
   "outputs": [
    {
     "name": "stdout",
     "output_type": "stream",
     "text": [
      "7\n",
      "1\n",
      "2\n",
      "3\n",
      "4\n",
      "5\n",
      "6\n"
     ]
    }
   ],
   "source": [
    "for i in range(n):\n",
    "    print(_list[i].prev.data)"
   ]
  },
  {
   "cell_type": "code",
   "execution_count": 292,
   "id": "9daa3b62",
   "metadata": {},
   "outputs": [
    {
     "name": "stdout",
     "output_type": "stream",
     "text": [
      "3\n",
      "6\n",
      "2\n",
      "7\n",
      "5\n",
      "1\n",
      "4\n"
     ]
    }
   ],
   "source": [
    "new_list = []\n",
    "\n",
    "temp = _list[-1]\n",
    "\n",
    "for i in range(n):\n",
    "    for j in range(k):\n",
    "        temp = temp.next\n",
    "    new_list.append(temp.data)\n",
    "    print (temp.data)\n",
    "    temp.prev.next = temp.next\n",
    "    temp.next.prev = temp.prev\n"
   ]
  },
  {
   "cell_type": "code",
   "execution_count": 296,
   "id": "ef8354a6",
   "metadata": {},
   "outputs": [
    {
     "name": "stdout",
     "output_type": "stream",
     "text": [
      "<3, 6, 2, 7, 5, 1, 4>\n"
     ]
    }
   ],
   "source": [
    "print('<'+ ', '.join(list(map(str,new_list))) +'>')"
   ]
  },
  {
   "cell_type": "markdown",
   "id": "dd1ca329",
   "metadata": {},
   "source": [
    "# 연속합 - 시간초과"
   ]
  },
  {
   "cell_type": "code",
   "execution_count": 19,
   "id": "4f3fcc36",
   "metadata": {
    "scrolled": true
   },
   "outputs": [
    {
     "name": "stdout",
     "output_type": "stream",
     "text": [
      "5\n",
      "10 -4 3 1 5 6 -35 12 21 -1\n"
     ]
    },
    {
     "data": {
      "text/plain": [
       "[10, -4, 3, 1, 5, 6, -35, 12, 21, -1]"
      ]
     },
     "execution_count": 19,
     "metadata": {},
     "output_type": "execute_result"
    }
   ],
   "source": [
    "n = int(input())\n",
    "__list=list(map(int,input().split()))\n",
    "__list"
   ]
  },
  {
   "cell_type": "code",
   "execution_count": 20,
   "id": "d41f6812",
   "metadata": {},
   "outputs": [],
   "source": [
    "if __list[0]<0:\n",
    "    del __list[0]\n",
    "if __list[-1]<0:\n",
    "    del __list[-1]"
   ]
  },
  {
   "cell_type": "code",
   "execution_count": 57,
   "id": "07b365c5",
   "metadata": {},
   "outputs": [
    {
     "data": {
      "text/plain": [
       "[10, -4, 3, 1, 5, 6, -35, 12, 21]"
      ]
     },
     "execution_count": 57,
     "metadata": {},
     "output_type": "execute_result"
    }
   ],
   "source": [
    "__list"
   ]
  },
  {
   "cell_type": "code",
   "execution_count": 146,
   "id": "0b7a18f8",
   "metadata": {},
   "outputs": [
    {
     "data": {
      "text/plain": [
       "[10, -4, 15, -35, 33]"
      ]
     },
     "execution_count": 146,
     "metadata": {},
     "output_type": "execute_result"
    }
   ],
   "source": [
    "new_list = [__list[0]]\n",
    "for i in range(1,len(__list)):\n",
    "    new_list.append(__list[i])\n",
    "    if new_list[-1]>=0 and new_list[-2]>=0:\n",
    "        new_list[-2] += new_list[-1]\n",
    "        del new_list[-1]\n",
    "new_list"
   ]
  },
  {
   "cell_type": "code",
   "execution_count": 153,
   "id": "8832edcc",
   "metadata": {},
   "outputs": [],
   "source": [
    "new_list = [40, -20, 30, -5, 10, -100, 70, -90, 1]"
   ]
  },
  {
   "cell_type": "code",
   "execution_count": 154,
   "id": "e82520e9",
   "metadata": {},
   "outputs": [
    {
     "name": "stdout",
     "output_type": "stream",
     "text": [
      "-20\n",
      "new 50\n",
      "del 30\n",
      "del 40\n",
      "-5\n",
      "new 55\n",
      "del 10\n",
      "del 50\n"
     ]
    }
   ],
   "source": [
    "i=0\n",
    "while i < (len(new_list)-2):\n",
    "    if new_list[i] < 0:\n",
    "        if new_list[i-1]+new_list[i]>0 and new_list[i+1]>0+new_list[i]:\n",
    "            print(new_list[i])\n",
    "            new_list[i]+=new_list[i-1]+new_list[i+1]\n",
    "            print('new %d'%new_list[i])\n",
    "            print('del %d'%new_list[i+1])\n",
    "            del new_list[i+1]\n",
    "            print('del %d'%new_list[i-1])\n",
    "            del new_list[i-1]\n",
    "            i=0\n",
    "        else:\n",
    "            i+=1\n",
    "    else:\n",
    "        i+=1\n",
    "    \n"
   ]
  },
  {
   "cell_type": "code",
   "execution_count": 155,
   "id": "3f18ab11",
   "metadata": {},
   "outputs": [
    {
     "data": {
      "text/plain": [
       "[55, -100, 70, -90, 1]"
      ]
     },
     "execution_count": 155,
     "metadata": {},
     "output_type": "execute_result"
    }
   ],
   "source": [
    "new_list"
   ]
  },
  {
   "cell_type": "code",
   "execution_count": 156,
   "id": "5b54f692",
   "metadata": {},
   "outputs": [
    {
     "name": "stdout",
     "output_type": "stream",
     "text": [
      "125\n",
      "71\n"
     ]
    },
    {
     "data": {
      "text/plain": [
       "125"
      ]
     },
     "execution_count": 156,
     "metadata": {},
     "output_type": "execute_result"
    }
   ],
   "source": [
    "_max=new_list[0]\n",
    "for i in range(0,len(new_list)-2,2):\n",
    "    print(new_list[i]+new_list[i+2])\n",
    "    if new_list[i]+new_list[i+2]>_max:\n",
    "        _max = new_list[i]+new_list[i+2]\n",
    "_max"
   ]
  },
  {
   "cell_type": "code",
   "execution_count": null,
   "id": "9134899e",
   "metadata": {},
   "outputs": [],
   "source": []
  }
 ],
 "metadata": {
  "kernelspec": {
   "display_name": "Python 3 (ipykernel)",
   "language": "python",
   "name": "python3"
  },
  "language_info": {
   "codemirror_mode": {
    "name": "ipython",
    "version": 3
   },
   "file_extension": ".py",
   "mimetype": "text/x-python",
   "name": "python",
   "nbconvert_exporter": "python",
   "pygments_lexer": "ipython3",
   "version": "3.9.7"
  }
 },
 "nbformat": 4,
 "nbformat_minor": 5
}
