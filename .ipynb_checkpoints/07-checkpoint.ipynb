{
 "cells": [
  {
   "cell_type": "markdown",
   "id": "f98203be",
   "metadata": {},
   "source": [
    "# 덱"
   ]
  },
  {
   "cell_type": "markdown",
   "id": "98a8d427",
   "metadata": {},
   "source": [
    "deque.append(item): item을 데크의 오른쪽 끝에 삽입한다.\n",
    "deque.appendleft(item): item을 데크의 왼쪽 끝에 삽입한다.\n",
    "deque.pop(): 데크의 오른쪽 끝 엘리먼트를 가져오는 동시에 데크에서 삭제한다.\n",
    "deque.popleft(): 데크의 왼쪽 끝 엘리먼트를 가져오는 동시에 데크에서 삭제한다.\n",
    "deque.extend(array): 주어진 배열(array)을 순환하면서 데크의 오른쪽에 추가한다.\n",
    "deque.extendleft(array): 주어진 배열(array)을 순환하면서 데크의 왼쪽에 추가한다.\n",
    "deque.remove(item): item을 데크에서 찾아 삭제한다.\n",
    "deque.rotate(num): 데크를 num만큼 회전한다(양수면 오른쪽, 음수면 왼쪽)."
   ]
  },
  {
   "cell_type": "code",
   "execution_count": 1,
   "id": "0d1d08e5",
   "metadata": {},
   "outputs": [],
   "source": [
    "from collections import deque\n",
    "import sys"
   ]
  },
  {
   "cell_type": "code",
   "execution_count": 3,
   "id": "ec7b6679",
   "metadata": {},
   "outputs": [
    {
     "ename": "KeyboardInterrupt",
     "evalue": "Interrupted by user",
     "output_type": "error",
     "traceback": [
      "\u001b[1;31m---------------------------------------------------------------------------\u001b[0m",
      "\u001b[1;31mKeyboardInterrupt\u001b[0m                         Traceback (most recent call last)",
      "\u001b[1;32m~\\AppData\\Local\\Temp\\ipykernel_4060\\3263327470.py\u001b[0m in \u001b[0;36m<module>\u001b[1;34m\u001b[0m\n\u001b[1;32m----> 1\u001b[1;33m \u001b[0m_input\u001b[0m \u001b[1;33m=\u001b[0m \u001b[0mint\u001b[0m\u001b[1;33m(\u001b[0m\u001b[0minput\u001b[0m\u001b[1;33m(\u001b[0m\u001b[1;33m)\u001b[0m\u001b[1;33m)\u001b[0m\u001b[1;33m\u001b[0m\u001b[1;33m\u001b[0m\u001b[0m\n\u001b[0m\u001b[0;32m      2\u001b[0m \u001b[0mdeq\u001b[0m \u001b[1;33m=\u001b[0m \u001b[0mdeque\u001b[0m\u001b[1;33m(\u001b[0m\u001b[1;33m)\u001b[0m\u001b[1;33m\u001b[0m\u001b[1;33m\u001b[0m\u001b[0m\n\u001b[0;32m      3\u001b[0m \u001b[1;33m\u001b[0m\u001b[0m\n\u001b[0;32m      4\u001b[0m \u001b[1;32mfor\u001b[0m \u001b[0mi\u001b[0m \u001b[1;32min\u001b[0m \u001b[0mrange\u001b[0m\u001b[1;33m(\u001b[0m\u001b[0m_input\u001b[0m\u001b[1;33m)\u001b[0m\u001b[1;33m:\u001b[0m\u001b[1;33m\u001b[0m\u001b[1;33m\u001b[0m\u001b[0m\n\u001b[0;32m      5\u001b[0m     \u001b[0mcmd\u001b[0m \u001b[1;33m=\u001b[0m \u001b[0msys\u001b[0m\u001b[1;33m.\u001b[0m\u001b[0mstdin\u001b[0m\u001b[1;33m.\u001b[0m\u001b[0mreadline\u001b[0m\u001b[1;33m(\u001b[0m\u001b[1;33m)\u001b[0m\u001b[1;33m.\u001b[0m\u001b[0msplit\u001b[0m\u001b[1;33m(\u001b[0m\u001b[1;33m)\u001b[0m\u001b[1;33m\u001b[0m\u001b[1;33m\u001b[0m\u001b[0m\n",
      "\u001b[1;32m~\\anaconda3\\envs\\ds\\lib\\site-packages\\ipykernel\\kernelbase.py\u001b[0m in \u001b[0;36mraw_input\u001b[1;34m(self, prompt)\u001b[0m\n\u001b[0;32m   1154\u001b[0m             \u001b[0mself\u001b[0m\u001b[1;33m.\u001b[0m\u001b[0m_parent_ident\u001b[0m\u001b[1;33m[\u001b[0m\u001b[1;34m\"shell\"\u001b[0m\u001b[1;33m]\u001b[0m\u001b[1;33m,\u001b[0m\u001b[1;33m\u001b[0m\u001b[1;33m\u001b[0m\u001b[0m\n\u001b[0;32m   1155\u001b[0m             \u001b[0mself\u001b[0m\u001b[1;33m.\u001b[0m\u001b[0mget_parent\u001b[0m\u001b[1;33m(\u001b[0m\u001b[1;34m\"shell\"\u001b[0m\u001b[1;33m)\u001b[0m\u001b[1;33m,\u001b[0m\u001b[1;33m\u001b[0m\u001b[1;33m\u001b[0m\u001b[0m\n\u001b[1;32m-> 1156\u001b[1;33m             \u001b[0mpassword\u001b[0m\u001b[1;33m=\u001b[0m\u001b[1;32mFalse\u001b[0m\u001b[1;33m,\u001b[0m\u001b[1;33m\u001b[0m\u001b[1;33m\u001b[0m\u001b[0m\n\u001b[0m\u001b[0;32m   1157\u001b[0m         )\n\u001b[0;32m   1158\u001b[0m \u001b[1;33m\u001b[0m\u001b[0m\n",
      "\u001b[1;32m~\\anaconda3\\envs\\ds\\lib\\site-packages\\ipykernel\\kernelbase.py\u001b[0m in \u001b[0;36m_input_request\u001b[1;34m(self, prompt, ident, parent, password)\u001b[0m\n\u001b[0;32m   1192\u001b[0m             \u001b[1;32mexcept\u001b[0m \u001b[0mKeyboardInterrupt\u001b[0m\u001b[1;33m:\u001b[0m\u001b[1;33m\u001b[0m\u001b[1;33m\u001b[0m\u001b[0m\n\u001b[0;32m   1193\u001b[0m                 \u001b[1;31m# re-raise KeyboardInterrupt, to truncate traceback\u001b[0m\u001b[1;33m\u001b[0m\u001b[1;33m\u001b[0m\u001b[1;33m\u001b[0m\u001b[0m\n\u001b[1;32m-> 1194\u001b[1;33m                 \u001b[1;32mraise\u001b[0m \u001b[0mKeyboardInterrupt\u001b[0m\u001b[1;33m(\u001b[0m\u001b[1;34m\"Interrupted by user\"\u001b[0m\u001b[1;33m)\u001b[0m \u001b[1;32mfrom\u001b[0m \u001b[1;32mNone\u001b[0m\u001b[1;33m\u001b[0m\u001b[1;33m\u001b[0m\u001b[0m\n\u001b[0m\u001b[0;32m   1195\u001b[0m             \u001b[1;32mexcept\u001b[0m \u001b[0mException\u001b[0m\u001b[1;33m:\u001b[0m\u001b[1;33m\u001b[0m\u001b[1;33m\u001b[0m\u001b[0m\n\u001b[0;32m   1196\u001b[0m                 \u001b[0mself\u001b[0m\u001b[1;33m.\u001b[0m\u001b[0mlog\u001b[0m\u001b[1;33m.\u001b[0m\u001b[0mwarning\u001b[0m\u001b[1;33m(\u001b[0m\u001b[1;34m\"Invalid Message:\"\u001b[0m\u001b[1;33m,\u001b[0m \u001b[0mexc_info\u001b[0m\u001b[1;33m=\u001b[0m\u001b[1;32mTrue\u001b[0m\u001b[1;33m)\u001b[0m\u001b[1;33m\u001b[0m\u001b[1;33m\u001b[0m\u001b[0m\n",
      "\u001b[1;31mKeyboardInterrupt\u001b[0m: Interrupted by user"
     ]
    }
   ],
   "source": [
    "_input = int(input())\n",
    "deq = deque()\n",
    "\n",
    "for i in range(_input):\n",
    "    cmd_ = sys.stdin.readline().split()\n",
    "    cmd = cmd_[0]\n",
    "    if len(cmd_)==2:\n",
    "        value = cmd_[1]\n",
    "    \n",
    "    if cmd == 'push_front':\n",
    "        deq = deq.appendleft(value)\n",
    "    elif cmd == 'push_back':\n",
    "        deq = deq.append(value)\n",
    "    elif cmd =='pop_front':\n",
    "        if deq:\n",
    "            print(deq[0])\n",
    "            deq.popleft()\n",
    "        else:\n",
    "            print('-1')\n",
    "    elif cmd == 'pop_back':\n",
    "        if deq:\n",
    "            print(deq[0])\n",
    "            deq.pop()\n",
    "        else:\n",
    "            print('-1')\n",
    "    elif cmd =='size':\n",
    "        print(len(deq))\n",
    "    elif cmd=='empty':\n",
    "        if d:\n",
    "            print('0')\n",
    "        else:\n",
    "            print('1')\n",
    "    elif cmd == 'front':\n",
    "        if d:\n",
    "            print(deq[0])\n",
    "        else:\n",
    "            print('-1')\n",
    "    elif cmd == 'back':\n",
    "        if d:\n",
    "            print(deq[len(deq)-1])\n",
    "        else:\n",
    "            print('-1')\n",
    "    "
   ]
  },
  {
   "cell_type": "markdown",
   "id": "937a4a33",
   "metadata": {},
   "source": [
    "# 균형"
   ]
  },
  {
   "cell_type": "code",
   "execution_count": 55,
   "id": "2ac543e4",
   "metadata": {},
   "outputs": [
    {
     "name": "stdout",
     "output_type": "stream",
     "text": [
      "Help( I[m being held prisoner in a fortune cookie factory)].\n",
      "( [        )].\n",
      "([)]. 정규식\n",
      "([)].\n",
      "no\n",
      "([ (([( [ ] ) ( ) (( ))] )) ]).\n",
      "([ (([( [ ] ) ( ) (( ))] )) ]).\n",
      "([(([([])()(())]))]). 정규식\n",
      "([(([([])()]))]). ()제거\n",
      "([(([()()]))]). []제거\n",
      "([(([]))]). ()제거\n",
      "([(())]). []제거\n",
      "([()]). ()제거\n",
      "([()]). []제거\n",
      "([]). ()제거\n",
      "(). []제거\n",
      ". ()제거\n",
      ". []제거\n",
      ".\n",
      "yes\n",
      " .\n",
      " .\n",
      ". 정규식\n",
      ".\n",
      "yes\n",
      ".\n"
     ]
    }
   ],
   "source": [
    "import re\n",
    "import sys\n",
    "\n",
    "while 1:\n",
    "    text = input()\n",
    "    if text == '.':\n",
    "        break\n",
    "        text = str(input())\n",
    "    new_text = re.sub(r\"[a-zA-Z]\", \"\", text)\n",
    "    print(new_text)\n",
    "    new_text = new_text.replace(' ','')\n",
    "    print(new_text,'정규식')\n",
    "\n",
    "    while 1:\n",
    "        if new_text.find('()') == -1 and new_text.find('[]') == -1:\n",
    "            break\n",
    "        new_text=new_text.replace('()','')\n",
    "        print(new_text,'()제거')\n",
    "        new_text=new_text.replace('[]','')\n",
    "        print(new_text,'[]제거')\n",
    "\n",
    "\n",
    "\n",
    "    print(new_text)\n",
    "    if new_text == '.':\n",
    "        print('yes')\n",
    "    else:\n",
    "        print('no')"
   ]
  },
  {
   "cell_type": "markdown",
   "id": "617c805d",
   "metadata": {},
   "source": [
    "# 봄버맨 몰라서 베낌"
   ]
  },
  {
   "cell_type": "code",
   "execution_count": 270,
   "id": "474f6407",
   "metadata": {},
   "outputs": [
    {
     "name": "stdout",
     "output_type": "stream",
     "text": [
      "6 7 3\n",
      ".......\n",
      "...O...\n",
      "....O..\n",
      ".......\n",
      "OO.....\n",
      "OO.....\n",
      "OOO.OOO\n",
      "OO...OO\n",
      "OOO...O\n",
      "..OO.OO\n",
      "...OOOO\n",
      "...OOOO\n"
     ]
    }
   ],
   "source": [
    "import copy\n",
    "\n",
    "# 입력값을 통해 폭탄의 시간을 가진 배열 채우기\n",
    "def get_input():\n",
    "    for i in range(R):\n",
    "        tmp = str(input())\n",
    "        for j in range(C):\n",
    "            bomb[i][j] = 0 if tmp[j] == '.' else 2\n",
    "            # 1초 동안 봄버맨은 아무것도 하지 않기 때문에 2를 넣어줌\n",
    "\n",
    "# 0이면 '.' 1 2 3이면 '0'을 출력\n",
    "def print_result():\n",
    "    for i in range(R):\n",
    "        for j in range(C):\n",
    "            tmp = '.' if bomb[i][j] == 0 else 'O'\n",
    "            print(tmp, end=\"\")\n",
    "        print()\n",
    "\n",
    "# 비어있는 칸에 새로운 폭탄을 채우고 있는 칸은 1초 시간이 흐르도록 함\n",
    "def fill_bomb(): \n",
    "    for i in range(R):\n",
    "        for j in range(C):\n",
    "            bomb[i][j] = 3 if bomb[i][j] == 0 else bomb[i][j] - 1\n",
    "\n",
    "# 0이 된 칸은 주변의 폭탄도 제거\n",
    "def bomb_explosion(bomb):\n",
    "    bomb2 = copy.deepcopy(bomb)\n",
    "    for i in range(R):\n",
    "        for j in range(C):\n",
    "            if bomb[i][j] == 0:\n",
    "                if 0 <= j-1:\n",
    "                    bomb2[i][j-1] = 0\n",
    "                if j+1 < C:\n",
    "                    bomb2[i][j+1] = 0\n",
    "                if 0 <= i-1:\n",
    "                    bomb2[i-1][j] = 0\n",
    "                if i+1 < R:\n",
    "                    bomb2[i+1][j] = 0\n",
    "    return bomb2\n",
    "\n",
    "R, C, N = map(int, input().split())\n",
    "bomb = [[0 for _ in range(C)] for _ in range(R)]\n",
    "\n",
    "if __name__=='__main__':\n",
    "    get_input()\n",
    "    for _ in range(N-1):\n",
    "        fill_bomb()\n",
    "        bomb = bomb_explosion(bomb)\n",
    "    print_result()"
   ]
  },
  {
   "cell_type": "code",
   "execution_count": 269,
   "id": "971aab2f",
   "metadata": {},
   "outputs": [
    {
     "name": "stdout",
     "output_type": "stream",
     "text": [
      "6 7 3\n"
     ]
    }
   ],
   "source": [
    "import sys\n",
    "\n",
    "_input = input().split()\n",
    "r = int(_input[0])\n",
    "c = int(_input[1])\n",
    "n = int(_input[2])"
   ]
  },
  {
   "cell_type": "code",
   "execution_count": 265,
   "id": "c13adec3",
   "metadata": {},
   "outputs": [],
   "source": [
    "board =[]"
   ]
  },
  {
   "cell_type": "code",
   "execution_count": null,
   "id": "ec3e2278",
   "metadata": {},
   "outputs": [],
   "source": [
    "board.append(sys.stdin.readline())"
   ]
  },
  {
   "cell_type": "code",
   "execution_count": 250,
   "id": "d693fc90",
   "metadata": {},
   "outputs": [],
   "source": [
    "for i in range(r):\n",
    "    board.append(list(sys.stdin.readline().rstrip()))"
   ]
  },
  {
   "cell_type": "code",
   "execution_count": 266,
   "id": "a645e191",
   "metadata": {},
   "outputs": [
    {
     "name": "stdout",
     "output_type": "stream",
     "text": [
      ".......\n",
      "...O...\n",
      "....O..\n",
      ".......\n",
      "OO.....\n",
      "OO.....\n"
     ]
    }
   ],
   "source": [
    "for i in range(r):\n",
    "    board.append(list(input()))"
   ]
  },
  {
   "cell_type": "code",
   "execution_count": 267,
   "id": "143e5783",
   "metadata": {},
   "outputs": [
    {
     "name": "stdout",
     "output_type": "stream",
     "text": [
      "OOO.OOO\n",
      "OO...OO\n",
      "OOO...O\n",
      "..OO.OO\n",
      "...OOOO\n",
      "...OOOO\n"
     ]
    }
   ],
   "source": [
    "if n%2 == 0: # 아무것도아닌거\n",
    "    for i in range(r):\n",
    "        if i !=0:\n",
    "            print('\\n',end='')\n",
    "        for j in range(c):\n",
    "            print('O',end='')\n",
    "elif n%4 == 3: # 터짐\n",
    "    for i in range(r):\n",
    "        for j in range(c):\n",
    "            if board[i][j] == 'O':\n",
    "                if i!=0:\n",
    "                    if board[i-1][j]!='O':\n",
    "                        board[i-1][j] = '1'\n",
    "                if j!=0:\n",
    "                    if board[i][j-1] != 'O':\n",
    "                        board[i][j-1] = '1'\n",
    "                if j!=c-1:\n",
    "                    if board[i][j+1] != 'O':\n",
    "                        board[i][j+1] ='1'\n",
    "                if i!=r-1:\n",
    "                    if board[i+1][j] != 'O':\n",
    "                        board[i+1][j] = '1'         \n",
    "    for i in range(r):\n",
    "        for j in range(c):\n",
    "            if board[i][j] == '.':\n",
    "                board[i][j] = 'O'\n",
    "            else:\n",
    "                board[i][j] = '.' \n",
    "    \n",
    "    for i in range(r):\n",
    "        print(''.join(board[i]))\n",
    "else: # 심기\n",
    "    for i in range(r):\n",
    "        print(''.join(board[i]))"
   ]
  },
  {
   "cell_type": "code",
   "execution_count": 217,
   "id": "d9605063",
   "metadata": {},
   "outputs": [
    {
     "data": {
      "text/plain": [
       "[['.', '.', '.', '.', '.', '.', '.'],\n",
       " ['.', '.', '.', 'O', '.', '.', '.'],\n",
       " ['.', '.', '.', '.', 'O', '.', '.'],\n",
       " ['.', '.', '.', '.', '.', '.', '.'],\n",
       " ['O', 'O', '.', '.', '.', '.', '.'],\n",
       " ['O', 'O', '.', '.', '.', '.', '.']]"
      ]
     },
     "execution_count": 217,
     "metadata": {},
     "output_type": "execute_result"
    }
   ],
   "source": [
    "board_origin"
   ]
  },
  {
   "cell_type": "code",
   "execution_count": 220,
   "id": "d8e24a34",
   "metadata": {},
   "outputs": [
    {
     "data": {
      "text/plain": [
       "[['.', '.', '.', '.', '.', '.', '.'],\n",
       " ['.', '.', '.', 'O', '.', '.', '.'],\n",
       " ['.', '.', '.', '.', 'O', '.', '.'],\n",
       " ['.', '.', '.', '.', '.', '.', '.'],\n",
       " ['O', 'O', '.', '.', '.', '.', '.'],\n",
       " ['O', 'O', '.', '.', '.', '.', '.']]"
      ]
     },
     "execution_count": 220,
     "metadata": {},
     "output_type": "execute_result"
    }
   ],
   "source": [
    "board = board_origin.copy()\n",
    "board"
   ]
  },
  {
   "cell_type": "code",
   "execution_count": 221,
   "id": "21867fe5",
   "metadata": {},
   "outputs": [],
   "source": [
    "for i in range(r):\n",
    "    for j in range(c):\n",
    "        if board[i][j] == 'O':\n",
    "            if i!=0:\n",
    "                if board[i-1][j]!='O':\n",
    "                    board[i-1][j] = '1'\n",
    "            if j!=0:\n",
    "                if board[i][j-1] != 'O':\n",
    "                    board[i][j-1] = '1'\n",
    "            if j!=c-1:\n",
    "                if board[i][j+1] != 'O':\n",
    "                    board[i][j+1] ='1'\n",
    "            if i!=r-1:\n",
    "                if board[i+1][j] != 'O':\n",
    "                    board[i+1][j] = '1'"
   ]
  },
  {
   "cell_type": "code",
   "execution_count": 222,
   "id": "6ee8954a",
   "metadata": {},
   "outputs": [
    {
     "data": {
      "text/plain": [
       "[['.', '.', '.', '1', '.', '.', '.'],\n",
       " ['.', '.', '1', 'O', '1', '.', '.'],\n",
       " ['.', '.', '.', '1', 'O', '1', '.'],\n",
       " ['1', '1', '.', '.', '1', '.', '.'],\n",
       " ['O', 'O', '1', '.', '.', '.', '.'],\n",
       " ['O', 'O', '1', '.', '.', '.', '.']]"
      ]
     },
     "execution_count": 222,
     "metadata": {},
     "output_type": "execute_result"
    }
   ],
   "source": [
    "board"
   ]
  },
  {
   "cell_type": "code",
   "execution_count": 223,
   "id": "a386bde8",
   "metadata": {},
   "outputs": [
    {
     "data": {
      "text/plain": [
       "[['.', '.', '.', '1', '.', '.', '.'],\n",
       " ['.', '.', '1', 'O', '1', '.', '.'],\n",
       " ['.', '.', '.', '1', 'O', '1', '.'],\n",
       " ['1', '1', '.', '.', '1', '.', '.'],\n",
       " ['O', 'O', '1', '.', '.', '.', '.'],\n",
       " ['O', 'O', '1', '.', '.', '.', '.']]"
      ]
     },
     "execution_count": 223,
     "metadata": {},
     "output_type": "execute_result"
    }
   ],
   "source": [
    "board_origin"
   ]
  },
  {
   "cell_type": "code",
   "execution_count": 225,
   "id": "6a961380",
   "metadata": {},
   "outputs": [
    {
     "data": {
      "text/plain": [
       "[['O', 'O', 'O', 'O', 'O', 'O', 'O'],\n",
       " ['O', 'O', 'O', 'O', 'O', 'O', 'O'],\n",
       " ['O', 'O', 'O', 'O', 'O', 'O', 'O'],\n",
       " ['O', 'O', 'O', 'O', 'O', 'O', 'O'],\n",
       " ['O', 'O', 'O', 'O', 'O', 'O', 'O'],\n",
       " ['O', 'O', 'O', 'O', 'O', 'O', 'O']]"
      ]
     },
     "execution_count": 225,
     "metadata": {},
     "output_type": "execute_result"
    }
   ],
   "source": [
    "boardtemp = []\n",
    "board1 =[]\n",
    "for i in range(c):\n",
    "    boardtemp.append('O')\n",
    "for i in range(r):\n",
    "    board1.append(boardtemp)\n",
    "board1"
   ]
  },
  {
   "cell_type": "code",
   "execution_count": 193,
   "id": "be104a5a",
   "metadata": {},
   "outputs": [
    {
     "name": "stdout",
     "output_type": "stream",
     "text": [
      "OOOOOOO\n"
     ]
    }
   ],
   "source": [
    "print(''.join(board1[0]))"
   ]
  },
  {
   "cell_type": "code",
   "execution_count": 224,
   "id": "5b68d92a",
   "metadata": {},
   "outputs": [
    {
     "data": {
      "text/plain": [
       "[['O', 'O', 'O', '.', 'O', 'O', 'O'],\n",
       " ['O', 'O', '.', '.', '.', 'O', 'O'],\n",
       " ['O', 'O', 'O', '.', '.', '.', 'O'],\n",
       " ['.', '.', 'O', 'O', '.', 'O', 'O'],\n",
       " ['.', '.', '.', 'O', 'O', 'O', 'O'],\n",
       " ['.', '.', '.', 'O', 'O', 'O', 'O']]"
      ]
     },
     "execution_count": 224,
     "metadata": {},
     "output_type": "execute_result"
    }
   ],
   "source": [
    "board2 = board\n",
    "for i in range(r):\n",
    "    for j in range(c):\n",
    "        if board2[i][j] == '.':\n",
    "            board2[i][j] = 'O'\n",
    "        else:\n",
    "            board2[i][j] = '.'\n",
    "            \n",
    "board2"
   ]
  },
  {
   "cell_type": "code",
   "execution_count": null,
   "id": "28700ea8",
   "metadata": {},
   "outputs": [],
   "source": []
  }
 ],
 "metadata": {
  "kernelspec": {
   "display_name": "Python 3 (ipykernel)",
   "language": "python",
   "name": "python3"
  },
  "language_info": {
   "codemirror_mode": {
    "name": "ipython",
    "version": 3
   },
   "file_extension": ".py",
   "mimetype": "text/x-python",
   "name": "python",
   "nbconvert_exporter": "python",
   "pygments_lexer": "ipython3",
   "version": "3.7.13"
  }
 },
 "nbformat": 4,
 "nbformat_minor": 5
}
