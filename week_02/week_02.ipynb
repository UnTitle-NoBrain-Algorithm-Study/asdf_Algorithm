{
 "cells": [
  {
   "cell_type": "markdown",
   "id": "0f9759de",
   "metadata": {},
   "source": [
    "# 소수찾기"
   ]
  },
  {
   "cell_type": "code",
   "execution_count": 83,
   "id": "2110047e",
   "metadata": {},
   "outputs": [
    {
     "name": "stdout",
     "output_type": "stream",
     "text": [
      "3\n"
     ]
    }
   ],
   "source": [
    "num = int(input())\n",
    "num_list=list(map(int, input().split())) \n",
    "num_list.sort()\n",
    "\n",
    "_max = num_list[-1] # 제일 큰 수\n",
    "\n",
    "for i in range (2, int(_max**0.5)+1): \n",
    "    k = 2\n",
    "    while k*i <= _max :\n",
    "        if k*i in num_list:\n",
    "            num_list.remove(k*i)\n",
    "        k = k+1\n",
    "if 1 in num_list :\n",
    "    num_list.remove(1)\n",
    "\n",
    "print(len(num_list))\n"
   ]
  },
  {
   "cell_type": "code",
   "execution_count": null,
   "id": "4f557e76",
   "metadata": {},
   "outputs": [],
   "source": [
    "print(num_list)"
   ]
  },
  {
   "cell_type": "markdown",
   "id": "35d8a00c",
   "metadata": {},
   "source": [
    "# 수정렬"
   ]
  },
  {
   "cell_type": "code",
   "execution_count": 3,
   "id": "4963e684",
   "metadata": {},
   "outputs": [
    {
     "name": "stdout",
     "output_type": "stream",
     "text": [
      "5\n",
      "123\n",
      "1325\n",
      "63\n",
      "723\n",
      "451\n",
      "63\n",
      "123\n",
      "451\n",
      "723\n",
      "1325\n"
     ]
    }
   ],
   "source": [
    "repeat = int(input())\n",
    "_list = []\n",
    "for i in range (repeat):\n",
    "    _list.append(int(input()))\n",
    "\n",
    "_list.sort()\n",
    "\n",
    "for i in range (repeat):\n",
    "    print(_list[i])\n",
    "    \n",
    "    "
   ]
  },
  {
   "cell_type": "markdown",
   "id": "d2e37c2d",
   "metadata": {},
   "source": [
    "#### 가장 큰 수"
   ]
  },
  {
   "cell_type": "code",
   "execution_count": 18,
   "id": "c37221c7",
   "metadata": {},
   "outputs": [
    {
     "data": {
      "text/plain": [
       "'6210'"
      ]
     },
     "execution_count": 18,
     "metadata": {},
     "output_type": "execute_result"
    }
   ],
   "source": [
    "tlqkf = [6, 10, 2]\n",
    "n_list = list(map(str, tlqkf))\n",
    "n_list.sort(key =lambda a : a*3, reverse =True)\n",
    "whrk = str(int(''.join(n_list)))\n",
    "whrk\n"
   ]
  },
  {
   "cell_type": "code",
   "execution_count": null,
   "id": "3819f361",
   "metadata": {},
   "outputs": [],
   "source": []
  }
 ],
 "metadata": {
  "kernelspec": {
   "display_name": "Python 3 (ipykernel)",
   "language": "python",
   "name": "python3"
  },
  "language_info": {
   "codemirror_mode": {
    "name": "ipython",
    "version": 3
   },
   "file_extension": ".py",
   "mimetype": "text/x-python",
   "name": "python",
   "nbconvert_exporter": "python",
   "pygments_lexer": "ipython3",
   "version": "3.7.13"
  }
 },
 "nbformat": 4,
 "nbformat_minor": 5
}
